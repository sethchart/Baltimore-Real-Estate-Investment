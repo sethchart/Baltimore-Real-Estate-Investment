{
 "cells": [
  {
   "cell_type": "markdown",
   "metadata": {},
   "source": [
    "# Step 1: Load the Data\n",
    "Our main data set is stored in the `zillow_data.csv` spread sheet "
   ]
  },
  {
   "cell_type": "code",
   "execution_count": 3,
   "metadata": {},
   "outputs": [],
   "source": [
    "import pandas as pd"
   ]
  },
  {
   "cell_type": "code",
   "execution_count": 4,
   "metadata": {},
   "outputs": [],
   "source": [
    "raw = pd.read_csv('../data/zillow_data.csv')"
   ]
  },
  {
   "cell_type": "code",
   "execution_count": 5,
   "metadata": {},
   "outputs": [
    {
     "name": "stdout",
     "output_type": "stream",
     "text": [
      "(15, 272)\n"
     ]
    },
    {
     "data": {
      "text/html": [
       "<div>\n",
       "<style scoped>\n",
       "    .dataframe tbody tr th:only-of-type {\n",
       "        vertical-align: middle;\n",
       "    }\n",
       "\n",
       "    .dataframe tbody tr th {\n",
       "        vertical-align: top;\n",
       "    }\n",
       "\n",
       "    .dataframe thead th {\n",
       "        text-align: right;\n",
       "    }\n",
       "</style>\n",
       "<table border=\"1\" class=\"dataframe\">\n",
       "  <thead>\n",
       "    <tr style=\"text-align: right;\">\n",
       "      <th></th>\n",
       "      <th>RegionID</th>\n",
       "      <th>RegionName</th>\n",
       "      <th>City</th>\n",
       "      <th>State</th>\n",
       "      <th>Metro</th>\n",
       "      <th>CountyName</th>\n",
       "      <th>SizeRank</th>\n",
       "      <th>1996-04</th>\n",
       "      <th>1996-05</th>\n",
       "      <th>1996-06</th>\n",
       "      <th>...</th>\n",
       "      <th>2017-07</th>\n",
       "      <th>2017-08</th>\n",
       "      <th>2017-09</th>\n",
       "      <th>2017-10</th>\n",
       "      <th>2017-11</th>\n",
       "      <th>2017-12</th>\n",
       "      <th>2018-01</th>\n",
       "      <th>2018-02</th>\n",
       "      <th>2018-03</th>\n",
       "      <th>2018-04</th>\n",
       "    </tr>\n",
       "  </thead>\n",
       "  <tbody>\n",
       "    <tr>\n",
       "      <th>316</th>\n",
       "      <td>66825</td>\n",
       "      <td>21215</td>\n",
       "      <td>Baltimore</td>\n",
       "      <td>MD</td>\n",
       "      <td>Baltimore</td>\n",
       "      <td>Baltimore City</td>\n",
       "      <td>317</td>\n",
       "      <td>53500.0</td>\n",
       "      <td>53500.0</td>\n",
       "      <td>53400.0</td>\n",
       "      <td>...</td>\n",
       "      <td>59400</td>\n",
       "      <td>61400</td>\n",
       "      <td>63200</td>\n",
       "      <td>64100</td>\n",
       "      <td>65100</td>\n",
       "      <td>66800</td>\n",
       "      <td>67400</td>\n",
       "      <td>69500</td>\n",
       "      <td>72900</td>\n",
       "      <td>75000</td>\n",
       "    </tr>\n",
       "    <tr>\n",
       "      <th>441</th>\n",
       "      <td>66834</td>\n",
       "      <td>21224</td>\n",
       "      <td>Baltimore</td>\n",
       "      <td>MD</td>\n",
       "      <td>Baltimore</td>\n",
       "      <td>Baltimore City</td>\n",
       "      <td>442</td>\n",
       "      <td>49600.0</td>\n",
       "      <td>49400.0</td>\n",
       "      <td>49200.0</td>\n",
       "      <td>...</td>\n",
       "      <td>156900</td>\n",
       "      <td>161000</td>\n",
       "      <td>165800</td>\n",
       "      <td>168800</td>\n",
       "      <td>171100</td>\n",
       "      <td>173800</td>\n",
       "      <td>176400</td>\n",
       "      <td>177900</td>\n",
       "      <td>177500</td>\n",
       "      <td>176600</td>\n",
       "    </tr>\n",
       "    <tr>\n",
       "      <th>605</th>\n",
       "      <td>66828</td>\n",
       "      <td>21218</td>\n",
       "      <td>Baltimore</td>\n",
       "      <td>MD</td>\n",
       "      <td>Baltimore</td>\n",
       "      <td>Baltimore City</td>\n",
       "      <td>606</td>\n",
       "      <td>44700.0</td>\n",
       "      <td>44700.0</td>\n",
       "      <td>44700.0</td>\n",
       "      <td>...</td>\n",
       "      <td>73000</td>\n",
       "      <td>74500</td>\n",
       "      <td>76400</td>\n",
       "      <td>78100</td>\n",
       "      <td>81100</td>\n",
       "      <td>84800</td>\n",
       "      <td>88200</td>\n",
       "      <td>91800</td>\n",
       "      <td>96400</td>\n",
       "      <td>99900</td>\n",
       "    </tr>\n",
       "    <tr>\n",
       "      <th>677</th>\n",
       "      <td>66816</td>\n",
       "      <td>21206</td>\n",
       "      <td>Baltimore</td>\n",
       "      <td>MD</td>\n",
       "      <td>Baltimore</td>\n",
       "      <td>Baltimore City</td>\n",
       "      <td>678</td>\n",
       "      <td>73200.0</td>\n",
       "      <td>73300.0</td>\n",
       "      <td>73500.0</td>\n",
       "      <td>...</td>\n",
       "      <td>113100</td>\n",
       "      <td>115700</td>\n",
       "      <td>118400</td>\n",
       "      <td>119800</td>\n",
       "      <td>121100</td>\n",
       "      <td>123400</td>\n",
       "      <td>126600</td>\n",
       "      <td>129600</td>\n",
       "      <td>132400</td>\n",
       "      <td>135200</td>\n",
       "    </tr>\n",
       "    <tr>\n",
       "      <th>1004</th>\n",
       "      <td>66839</td>\n",
       "      <td>21229</td>\n",
       "      <td>Baltimore</td>\n",
       "      <td>MD</td>\n",
       "      <td>Baltimore</td>\n",
       "      <td>Baltimore City</td>\n",
       "      <td>1005</td>\n",
       "      <td>56000.0</td>\n",
       "      <td>56200.0</td>\n",
       "      <td>56500.0</td>\n",
       "      <td>...</td>\n",
       "      <td>77300</td>\n",
       "      <td>80000</td>\n",
       "      <td>83000</td>\n",
       "      <td>84400</td>\n",
       "      <td>85400</td>\n",
       "      <td>86100</td>\n",
       "      <td>86500</td>\n",
       "      <td>88400</td>\n",
       "      <td>92400</td>\n",
       "      <td>95600</td>\n",
       "    </tr>\n",
       "  </tbody>\n",
       "</table>\n",
       "<p>5 rows × 272 columns</p>\n",
       "</div>"
      ],
      "text/plain": [
       "      RegionID  RegionName       City State      Metro      CountyName  \\\n",
       "316      66825       21215  Baltimore    MD  Baltimore  Baltimore City   \n",
       "441      66834       21224  Baltimore    MD  Baltimore  Baltimore City   \n",
       "605      66828       21218  Baltimore    MD  Baltimore  Baltimore City   \n",
       "677      66816       21206  Baltimore    MD  Baltimore  Baltimore City   \n",
       "1004     66839       21229  Baltimore    MD  Baltimore  Baltimore City   \n",
       "\n",
       "      SizeRank  1996-04  1996-05  1996-06  ...  2017-07  2017-08  2017-09  \\\n",
       "316        317  53500.0  53500.0  53400.0  ...    59400    61400    63200   \n",
       "441        442  49600.0  49400.0  49200.0  ...   156900   161000   165800   \n",
       "605        606  44700.0  44700.0  44700.0  ...    73000    74500    76400   \n",
       "677        678  73200.0  73300.0  73500.0  ...   113100   115700   118400   \n",
       "1004      1005  56000.0  56200.0  56500.0  ...    77300    80000    83000   \n",
       "\n",
       "      2017-10  2017-11  2017-12  2018-01  2018-02  2018-03  2018-04  \n",
       "316     64100    65100    66800    67400    69500    72900    75000  \n",
       "441    168800   171100   173800   176400   177900   177500   176600  \n",
       "605     78100    81100    84800    88200    91800    96400    99900  \n",
       "677    119800   121100   123400   126600   129600   132400   135200  \n",
       "1004    84400    85400    86100    86500    88400    92400    95600  \n",
       "\n",
       "[5 rows x 272 columns]"
      ]
     },
     "execution_count": 5,
     "metadata": {},
     "output_type": "execute_result"
    }
   ],
   "source": [
    "filtered = raw.query(\"City == 'Baltimore'\")\n",
    "print(filtered.shape)\n",
    "filtered.head()"
   ]
  },
  {
   "cell_type": "markdown",
   "metadata": {},
   "source": [
    "# Step 2: Data Preprocessing"
   ]
  },
  {
   "cell_type": "code",
   "execution_count": null,
   "metadata": {},
   "outputs": [],
   "source": [
    "melted = df.melt(id_vars=df.columns.values[:7], \n",
    "        value_vars=df.columns.values[7:], \n",
    "        var_name='Date',\n",
    "        value_name='MedianSales'\n",
    "       )\n",
    "melted.head()"
   ]
  },
  {
   "cell_type": "code",
   "execution_count": null,
   "metadata": {},
   "outputs": [],
   "source": [
    "converted = melted.copy()\n",
    "converted['Date'] = pd.to_datetime(melted['Date'])\n",
    "print(converted.shape)\n",
    "converted.head()"
   ]
  },
  {
   "cell_type": "code",
   "execution_count": null,
   "metadata": {},
   "outputs": [],
   "source": [
    "cleaned = converted.dropna(subset=['MedianSales'])\n",
    "print(cleaned.shape)\n",
    "cleaned.head()"
   ]
  },
  {
   "cell_type": "code",
   "execution_count": null,
   "metadata": {},
   "outputs": [],
   "source": [
    "grouped = cleaned.groupby('Date').agg({'MedianSales': 'mean'})\n",
    "print(grouped.shape)\n",
    "grouped.head()"
   ]
  },
  {
   "cell_type": "markdown",
   "metadata": {},
   "source": [
    "# Step 3: EDA and Visualization"
   ]
  },
  {
   "cell_type": "code",
   "execution_count": null,
   "metadata": {},
   "outputs": [],
   "source": [
    "grouped.plot()"
   ]
  },
  {
   "cell_type": "code",
   "execution_count": null,
   "metadata": {},
   "outputs": [],
   "source": [
    "from statsmodels.graphics.tsaplots import plot_pacf\n",
    "from statsmodels.graphics.tsaplots import plot_acf\n",
    "from matplotlib import pyplot as plt\n",
    "\n",
    "fig, ax = plt.subplots(figsize=(16,3))\n",
    "plot_acf(grouped, ax=ax, lags=9);\n",
    "\n",
    "fig, ax = plt.subplots(figsize=(16,3))\n",
    "plot_pacf(grouped, ax=ax, lags=9);"
   ]
  },
  {
   "cell_type": "markdown",
   "metadata": {},
   "source": [
    "# Step 4: ARIMA Modeling"
   ]
  },
  {
   "cell_type": "code",
   "execution_count": null,
   "metadata": {},
   "outputs": [],
   "source": [
    "# Import ARMA\n",
    "from statsmodels.tsa.statespace.sarimax import SARIMAX\n",
    "import statsmodels.api as sm\n",
    "\n",
    "# Instantiate an AR(1) model to the simulated data\n",
    "mod_arima = SARIMAX(grouped, order=(1, 1, 1), seasonal_order=(1, 1, 0, 12), freq='MS')"
   ]
  },
  {
   "cell_type": "code",
   "execution_count": null,
   "metadata": {},
   "outputs": [],
   "source": [
    "res_arima = mod_arima.fit()"
   ]
  },
  {
   "cell_type": "code",
   "execution_count": null,
   "metadata": {},
   "outputs": [],
   "source": [
    "from itertools import combinations_with_replacement\n",
    "best_aic = 1e16\n",
    "best_model = None\n",
    "for comb in combinations_with_replacement([0, 1, 2], 4):\n",
    "    p, q, P, Q = comb\n",
    "    mod_sarima = SARIMAX(grouped, order=(p, 1, q), seasonal_order=(P, 1, Q, 12), freq='MS')\n",
    "    res_sarima = mod_sarima.fit()\n",
    "    aic = res_sarima.aic\n",
    "    if aic < best_aic:\n",
    "        print(aic)\n",
    "        best_aic = aic\n",
    "        best_model = mod_sarima\n",
    "        \n",
    "        \n"
   ]
  },
  {
   "cell_type": "code",
   "execution_count": null,
   "metadata": {},
   "outputs": [],
   "source": [
    "best_res = best_model.fit()"
   ]
  },
  {
   "cell_type": "code",
   "execution_count": null,
   "metadata": {},
   "outputs": [],
   "source": [
    "print(best_res.summary())"
   ]
  },
  {
   "cell_type": "code",
   "execution_count": null,
   "metadata": {},
   "outputs": [],
   "source": [
    "plt.plot(best_res.predict())"
   ]
  },
  {
   "cell_type": "markdown",
   "metadata": {},
   "source": [
    "# Step 5: Interpreting Results"
   ]
  },
  {
   "cell_type": "code",
   "execution_count": null,
   "metadata": {},
   "outputs": [],
   "source": []
  },
  {
   "cell_type": "code",
   "execution_count": null,
   "metadata": {},
   "outputs": [],
   "source": []
  },
  {
   "cell_type": "code",
   "execution_count": null,
   "metadata": {},
   "outputs": [],
   "source": []
  }
 ],
 "metadata": {
  "kernelspec": {
   "display_name": "Python 3",
   "language": "python",
   "name": "python3"
  },
  "language_info": {
   "codemirror_mode": {
    "name": "ipython",
    "version": 3
   },
   "file_extension": ".py",
   "mimetype": "text/x-python",
   "name": "python",
   "nbconvert_exporter": "python",
   "pygments_lexer": "ipython3",
   "version": "3.8.6"
  }
 },
 "nbformat": 4,
 "nbformat_minor": 2
}
