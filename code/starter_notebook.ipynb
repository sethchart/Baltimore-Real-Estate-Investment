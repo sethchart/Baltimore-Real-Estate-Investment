{
 "cells": [
  {
   "cell_type": "markdown",
   "metadata": {},
   "source": [
    "# Step 0: Defining Model Class"
   ]
  },
  {
   "cell_type": "code",
   "execution_count": null,
   "metadata": {},
   "outputs": [],
   "source": [
    "# Basics\n",
    "import pandas as pd\n",
    "import numpy as np\n",
    "\n",
    "#Plotting\n",
    "from matplotlib import pyplot as plt\n",
    "from statsmodels.graphics.tsaplots import plot_pacf\n",
    "from statsmodels.graphics.tsaplots import plot_acf\n",
    "plt.style.use('ggplot')\n",
    "\n",
    "# Warnings\n",
    "import warnings\n",
    "warnings.filterwarnings('ignore')\n",
    "\n",
    "#Auto ARIMA\n",
    "try:\n",
    "    from pmdarima.arima import auto_arima\n",
    "except:\n",
    "    ! pip install pmdarima\n",
    "    from pmdarima.arima import auto_arima\n",
    "\n",
    "class Model(object):\n",
    "    \n",
    "    def __init__(self, test_size=48, predict_size=24):\n",
    "        self.model_dictionary = {}\n",
    "        self.test_size = test_size\n",
    "        self.predict_size = predict_size\n",
    "        \n",
    "    def get_zip_code(self, row):\n",
    "        return row['RegionName']\n",
    "    \n",
    "    def make_datetime_index(self, df):\n",
    "        string_index = df.columns.values[8:]\n",
    "        self.datetime_index = pd.to_datetime(string_index)\n",
    "    \n",
    "    def load_data(self, df):\n",
    "        self.make_datetime_index(df)\n",
    "        for ind in df.index.values:\n",
    "            row = df.loc[ind]\n",
    "            zip_code = self.get_zip_code(row)\n",
    "            row_dict = self.make_row_dict(row)\n",
    "            self.model_dictionary[zip_code] = row_dict\n",
    "        \n",
    "    def make_time_series_df(self, time_series):\n",
    "        time_series.index = self.datetime_index\n",
    "        df = pd.DataFrame(time_series)\n",
    "        df.columns = ['MedianSales']\n",
    "        return df\n",
    "        \n",
    "    def make_row_dict(self, row):\n",
    "        row_dict = row.iloc[1:8].to_dict()\n",
    "        time_series = row.iloc[8:]\n",
    "        df = self.make_time_series_df(time_series)\n",
    "        df = df.fillna(df.bfill())\n",
    "        row_dict['TimeSeries'] = df\n",
    "        return row_dict\n",
    "            \n",
    "    def get_time_series(self, zip_code):\n",
    "        return self.model_dictionary[zip_code]['TimeSeries']\n",
    "        \n",
    "    def make_train_test_split(self, zip_code):\n",
    "        time_series_df = self.get_time_series(zip_code)\n",
    "        train = time_series_df[:-self.test_size]\n",
    "        test = time_series_df[-self.test_size:]\n",
    "        self.model_dictionary[zip_code]['TrainSeries'] = train\n",
    "        self.model_dictionary[zip_code]['TestSeries'] = test\n",
    "        \n",
    "    def get_train_series(self, zip_code):\n",
    "        try:\n",
    "            train_series = self.model_dictionary[zip_code]['TrainSeries']\n",
    "        except:\n",
    "            self.make_train_test_split(zip_code)\n",
    "            train_series = self.model_dictionary[zip_code]['TrainSeries']\n",
    "        return train_series\n",
    "            \n",
    "    def get_test_series(self, zip_code):\n",
    "        try:\n",
    "            test_series = self.model_dictionary[zip_code]['TestSeries']\n",
    "        except:\n",
    "            self.make_train_test_split(zip_code)\n",
    "            test_series = self.model_dictionary[zip_code]['TestSeries']\n",
    "        return test_series\n",
    "        \n",
    "    def get_city_name(self, zip_code):\n",
    "        return self.model_dictionary[zip_code]['City']\n",
    "    \n",
    "    def get_state_abbreviation(self, zip_code):\n",
    "        return self.model_dictionary[zip_code]['State']\n",
    "    \n",
    "    def make_time_series_plot(self, zip_code):\n",
    "        train = self.get_train_series(zip_code)\n",
    "        test = self.get_test_series(zip_code)\n",
    "        city_name = self.get_city_name(zip_code)\n",
    "        state_abbreviation = self.get_state_abbreviation(zip_code)\n",
    "        fig, ax = plt.subplots(figsize=(8, 5));\n",
    "        ax.plot(train);\n",
    "        ax.plot(test);\n",
    "        legend_labels = ['Train', 'Test']\n",
    "        try:\n",
    "            in_sample_prediction = self.get_in_sample_prediction(zip_code)\n",
    "            ax.plot(in_sample_prediction)\n",
    "            legend_labels.append('Prediction')\n",
    "        except:\n",
    "            pass\n",
    "        ax.legend(legend_labels);\n",
    "        ax.set_title(f'Median Sale Price {city_name}, {state_abbreviation} {zip_code}')\n",
    "        ax.set_xlabel('Date')\n",
    "        ax.set_ylabel('Price')\n",
    "        return fig\n",
    "    \n",
    "    def make_acf_plot(self, zip_code):\n",
    "        city_name = self.get_city_name(zip_code)\n",
    "        state_abbreviation = self.get_state_abbreviation(zip_code)\n",
    "        train = self.get_train_series(zip_code)\n",
    "        test = self.get_test_series(zip_code)\n",
    "        fig, ax = plt.subplots(figsize=(8,5));\n",
    "        plot_acf(\n",
    "            x=train, \n",
    "            ax=ax, \n",
    "            lags=100,\n",
    "            title=f'Autocorrelation for {city_name}, {state_abbreviation} {zip_code}'\n",
    "        );\n",
    "        return fig\n",
    "    \n",
    "    def make_pacf_plot(self, zip_code):\n",
    "        city_name = self.get_city_name(zip_code)\n",
    "        state_abbreviation = self.get_state_abbreviation(zip_code)\n",
    "        train = self.get_train_series(zip_code)\n",
    "        test = self.get_test_series(zip_code)\n",
    "        fig, ax = plt.subplots(figsize=(8,5));\n",
    "        plot_pacf(\n",
    "            x=train, \n",
    "            ax=ax, \n",
    "            lags=100,\n",
    "            title=f'Partial Autocorrelation for {city_name}, {state_abbreviation} {zip_code}'\n",
    "        );\n",
    "        return fig\n",
    "    \n",
    "    def select_model(self, zip_code, trace=True):\n",
    "        y = self.get_time_series(zip_code)\n",
    "        model = auto_arima(\n",
    "            y = y,\n",
    "            X=None,\n",
    "            start_p=0,\n",
    "            d=1,\n",
    "            start_q=0,\n",
    "            max_p=2,\n",
    "            max_d=2,\n",
    "            max_q=2,\n",
    "            start_P=0,\n",
    "            D=1,\n",
    "            start_Q=0,\n",
    "            max_P=2,\n",
    "            max_D=2,\n",
    "            max_Q=2,\n",
    "            max_order=None,\n",
    "            m=12,\n",
    "            seasonal=True,\n",
    "            stationary=False,\n",
    "            information_criterion='oob',\n",
    "            alpha=0.05,\n",
    "            test='kpss',\n",
    "            seasonal_test='OCSB',\n",
    "            stepwise=True,            \n",
    "            suppress_warnings=True,\n",
    "            error_action='warn',\n",
    "            trace=trace,\n",
    "            out_of_sample_size= self.test_size,\n",
    "            scoring='mse'\n",
    "        )\n",
    "        self.model_dictionary[zip_code]['BestModel'] = model\n",
    "    \n",
    "    def get_best_model(self, zip_code):\n",
    "        return self.model_dictionary[zip_code]['BestModel']\n",
    "            \n",
    "    def predict_in_sample(self, zip_code):\n",
    "        model = self.get_best_model(zip_code)\n",
    "        time_series = self.get_time_series(zip_code)\n",
    "        index = time_series.index\n",
    "        in_sample_prediction = model.predict_in_sample()\n",
    "        in_sample_prediction_df = pd.DataFrame(in_sample_prediction, index=index)\n",
    "        in_sample_prediction_df.columns = ['MedianSales']\n",
    "        self.model_dictionary[zip_code]['InSamplePrediction'] = in_sample_prediction_df\n",
    "            \n",
    "    def get_in_sample_prediction(self, zip_code):\n",
    "        return self.model_dictionary[zip_code]['InSamplePrediction']\n",
    "    \n",
    "    def predict(self, zip_code):\n",
    "        model = self.get_best_model(zip_code)\n",
    "        prediction = model.predict(n_periods=self.predict_size)\n",
    "        return prediction\n"
   ]
  },
  {
   "cell_type": "code",
   "execution_count": null,
   "metadata": {},
   "outputs": [],
   "source": [
    "pd.date_range()"
   ]
  },
  {
   "cell_type": "markdown",
   "metadata": {},
   "source": [
    "# Step 1: Import the Data\n",
    "Our main data set is stored in the `zillow_data.csv` spreadsheet. We load the CSV file as a data frame below."
   ]
  },
  {
   "cell_type": "code",
   "execution_count": null,
   "metadata": {},
   "outputs": [],
   "source": [
    "df = pd.read_csv('../data/Zip_zhvi_uc_sfr_tier_0.33_0.67_sm_sa_mon.csv', index_col='RegionID')\n",
    "print(df.shape)\n",
    "df.head()"
   ]
  },
  {
   "cell_type": "markdown",
   "metadata": {},
   "source": [
    "We will restrict our attention to the city of Baltimore, so we filter the data below."
   ]
  },
  {
   "cell_type": "code",
   "execution_count": null,
   "metadata": {},
   "outputs": [],
   "source": [
    "df = df.query(\"City == 'Baltimore' and State == 'MD'\")\n",
    "print(df.shape)\n",
    "df.head()"
   ]
  },
  {
   "cell_type": "markdown",
   "metadata": {},
   "source": [
    "# Step 2: Instantiate the Model and Load in the Data\n",
    "Below we instantiate a Model object and load our selected data into the object."
   ]
  },
  {
   "cell_type": "code",
   "execution_count": null,
   "metadata": {},
   "outputs": [],
   "source": [
    "model = Model()\n",
    "model.load_data(df)"
   ]
  },
  {
   "cell_type": "code",
   "execution_count": null,
   "metadata": {},
   "outputs": [],
   "source": [
    "model.make_predict_index()"
   ]
  },
  {
   "cell_type": "markdown",
   "metadata": {},
   "source": [
    "# Step 3: EDA and Visualization\n",
    "Below we display a time series plot, ACF plot, and PACF plot for the zip code 21215. The class methods used below will work for any zip code in our model."
   ]
  },
  {
   "cell_type": "code",
   "execution_count": null,
   "metadata": {},
   "outputs": [],
   "source": [
    "model.make_time_series_plot(21215);"
   ]
  },
  {
   "cell_type": "code",
   "execution_count": null,
   "metadata": {},
   "outputs": [],
   "source": [
    "model.make_acf_plot(21215);"
   ]
  },
  {
   "cell_type": "code",
   "execution_count": null,
   "metadata": {},
   "outputs": [],
   "source": [
    "model.make_pacf_plot(21215);"
   ]
  },
  {
   "cell_type": "markdown",
   "metadata": {},
   "source": [
    "# Step 4: ARIMA Modeling"
   ]
  },
  {
   "cell_type": "code",
   "execution_count": null,
   "metadata": {},
   "outputs": [],
   "source": [
    "model.select_model(21215)"
   ]
  },
  {
   "cell_type": "markdown",
   "metadata": {},
   "source": [
    "# Step 5: Interpreting Results"
   ]
  },
  {
   "cell_type": "code",
   "execution_count": null,
   "metadata": {},
   "outputs": [],
   "source": [
    "model.predict_in_sample(21215)"
   ]
  },
  {
   "cell_type": "code",
   "execution_count": null,
   "metadata": {},
   "outputs": [],
   "source": [
    "model.make_time_series_plot(21215);"
   ]
  },
  {
   "cell_type": "code",
   "execution_count": null,
   "metadata": {},
   "outputs": [],
   "source": [
    "best_model = model.get_best_model(21215)"
   ]
  },
  {
   "cell_type": "code",
   "execution_count": null,
   "metadata": {},
   "outputs": [],
   "source": [
    "pred = best_model.predict(n_periods=)"
   ]
  },
  {
   "cell_type": "code",
   "execution_count": null,
   "metadata": {},
   "outputs": [],
   "source": [
    "pred[1]"
   ]
  },
  {
   "cell_type": "code",
   "execution_count": null,
   "metadata": {},
   "outputs": [],
   "source": [
    "import sys\n",
    "sys.getsizeof(model.model_dictionary)"
   ]
  },
  {
   "cell_type": "code",
   "execution_count": null,
   "metadata": {},
   "outputs": [],
   "source": []
  }
 ],
 "metadata": {
  "kernelspec": {
   "display_name": "Python 3",
   "language": "python",
   "name": "python3"
  },
  "language_info": {
   "codemirror_mode": {
    "name": "ipython",
    "version": 3
   },
   "file_extension": ".py",
   "mimetype": "text/x-python",
   "name": "python",
   "nbconvert_exporter": "python",
   "pygments_lexer": "ipython3",
   "version": "3.6.9"
  }
 },
 "nbformat": 4,
 "nbformat_minor": 2
}
